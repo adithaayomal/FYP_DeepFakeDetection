{
 "cells": [
  {
   "cell_type": "code",
   "execution_count": 8,
   "id": "867255f6-bcd0-4716-a06c-2be90503cdea",
   "metadata": {},
   "outputs": [],
   "source": [
    "import cv2\n",
    "import os\n",
    "import numpy as np\n",
    "import matplotlib.pyplot as plt\n",
    "from tqdm import tqdm\n",
    "import imgaug.augmenters as iaa\n"
   ]
  },
  {
   "cell_type": "code",
   "execution_count": 9,
   "id": "80650f79-6da7-408f-a787-77d38aad2460",
   "metadata": {},
   "outputs": [],
   "source": [
    "# Define the paths to your real and fake dataset directories\n",
    "real_dataset_path = 'C:/Users/ADITHA/Documents/Deep Fake Detection/train/Preprocessed/face_detection/real'\n",
    "fake_dataset_path = 'C:/Users/ADITHA/Documents/Deep Fake Detection/train/Preprocessed/face_detection/fake'\n"
   ]
  },
  {
   "cell_type": "code",
   "execution_count": 10,
   "id": "fc168ab7-e56e-4774-861a-830b97535b88",
   "metadata": {},
   "outputs": [
    {
     "name": "stderr",
     "output_type": "stream",
     "text": [
      "Loading Images: 100%|██████████████████████████████████████████████████████████| 1672/1672 [00:08<00:00, 189.19it/s]\n"
     ]
    }
   ],
   "source": [
    "# List all image files in the real and fake dataset directories\n",
    "real_image_files = [os.path.join(real_dataset_path, f) for f in os.listdir(real_dataset_path) if os.path.isfile(os.path.join(real_dataset_path, f))]\n",
    "fake_image_files = [os.path.join(fake_dataset_path, f) for f in os.listdir(fake_dataset_path) if os.path.isfile(os.path.join(fake_dataset_path, f))]\n",
    "\n",
    "# Combine the lists\n",
    "image_files = real_image_files + fake_image_files\n",
    "\n",
    "# Function to load an image\n",
    "def load_image(file_path):\n",
    "    image = cv2.imread(file_path)\n",
    "    return image\n",
    "\n",
    "# Load all images with tqdm progress bar\n",
    "images = []\n",
    "for file in tqdm(image_files, desc=\"Loading Images\"):\n",
    "    images.append(load_image(file))\n"
   ]
  },
  {
   "cell_type": "code",
   "execution_count": 11,
   "id": "cad92ea3-cc33-4517-93fa-6538aa2f91f2",
   "metadata": {},
   "outputs": [
    {
     "name": "stderr",
     "output_type": "stream",
     "text": [
      "Detecting Faces: 100%|██████████████████████████████████████████████████████████| 1672/1672 [01:25<00:00, 19.61it/s]\n"
     ]
    }
   ],
   "source": [
    "# Load the pre-trained Haar Cascade classifier for face detection\n",
    "face_cascade = cv2.CascadeClassifier(cv2.data.haarcascades + 'haarcascade_frontalface_default.xml')\n",
    "\n",
    "# Function to detect faces in an image\n",
    "def detect_faces(image):\n",
    "    gray = cv2.cvtColor(image, cv2.COLOR_BGR2GRAY)\n",
    "    faces = face_cascade.detectMultiScale(gray, scaleFactor=1.1, minNeighbors=5, minSize=(30, 30))\n",
    "    return faces\n",
    "\n",
    "# Detect faces in all images with tqdm progress bar\n",
    "detected_faces = []\n",
    "for image in tqdm(images, desc=\"Detecting Faces\"):\n",
    "    detected_faces.append(detect_faces(image))\n"
   ]
  },
  {
   "cell_type": "code",
   "execution_count": 12,
   "id": "a0a01f54-3c9c-4266-8659-73c6f222c9ed",
   "metadata": {},
   "outputs": [
    {
     "name": "stderr",
     "output_type": "stream",
     "text": [
      "Augmenting and Saving Faces: 100%|██████████████████████████████████████████████| 1672/1672 [00:18<00:00, 89.13it/s]\n"
     ]
    }
   ],
   "source": [
    "# Define augmentation sequence\n",
    "aug = iaa.Sequential([\n",
    "    iaa.Fliplr(0.5),  # horizontal flips\n",
    "    iaa.Affine(rotate=(-20, 20)),  # rotation\n",
    "    iaa.Multiply((0.8, 1.2)),  # change brightness\n",
    "    iaa.GaussianBlur(sigma=(0, 1.0))  # blur\n",
    "])\n",
    "\n",
    "# Directories to save augmented faces\n",
    "augmented_faces_dir = 'C:/Users/ADITHA/Documents/Deep Fake Detection/train/Preprocessed/augment'\n",
    "real_augmented_faces_dir = os.path.join(augmented_faces_dir, 'real')\n",
    "fake_augmented_faces_dir = os.path.join(augmented_faces_dir, 'fake')\n",
    "os.makedirs(real_augmented_faces_dir, exist_ok=True)\n",
    "os.makedirs(fake_augmented_faces_dir, exist_ok=True)\n",
    "\n",
    "# Function to save augmented faces\n",
    "def save_augmented_faces(image, faces, file_name, category):\n",
    "    for i, (x, y, w, h) in enumerate(faces):\n",
    "        face = image[y:y+h, x:x+w]\n",
    "        face_aug = aug(image=face)\n",
    "        if category == 'real':\n",
    "            face_file_name = os.path.join(real_augmented_faces_dir, f'{os.path.splitext(os.path.basename(file_name))[0]}_aug_face_{i}.jpg')\n",
    "        else:\n",
    "            face_file_name = os.path.join(fake_augmented_faces_dir, f'{os.path.splitext(os.path.basename(file_name))[0]}_aug_face_{i}.jpg')\n",
    "        cv2.imwrite(face_file_name, face_aug)\n",
    "\n",
    "# Augment and save faces for all images with tqdm progress bar\n",
    "for file_name, image, faces in tqdm(zip(image_files, images, detected_faces), desc=\"Augmenting and Saving Faces\", total=len(image_files)):\n",
    "    category = 'real' if file_name in real_image_files else 'fake'\n",
    "    save_augmented_faces(image, faces, file_name, category)\n"
   ]
  }
 ],
 "metadata": {
  "kernelspec": {
   "display_name": "Python 3 (ipykernel)",
   "language": "python",
   "name": "python3"
  },
  "language_info": {
   "codemirror_mode": {
    "name": "ipython",
    "version": 3
   },
   "file_extension": ".py",
   "mimetype": "text/x-python",
   "name": "python",
   "nbconvert_exporter": "python",
   "pygments_lexer": "ipython3",
   "version": "3.12.4"
  }
 },
 "nbformat": 4,
 "nbformat_minor": 5
}
