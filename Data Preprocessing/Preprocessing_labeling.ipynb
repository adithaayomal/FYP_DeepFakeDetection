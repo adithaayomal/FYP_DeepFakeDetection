{
 "cells": [
  {
   "cell_type": "code",
   "execution_count": 4,
   "id": "81881896-38b1-486f-8e79-3a83fca20049",
   "metadata": {},
   "outputs": [],
   "source": [
    "import os\n",
    "import pandas as pd\n",
    "from tqdm import tqdm\n"
   ]
  },
  {
   "cell_type": "code",
   "execution_count": 5,
   "id": "b472345d-6bcf-43de-a3df-a4ad924d081e",
   "metadata": {},
   "outputs": [],
   "source": [
    "# Define the paths to your real and fake dataset directories\n",
    "real_dataset_path = 'C:/Users/ADITHA/Documents/Deep Fake Detection/train/final/real'\n",
    "fake_dataset_path = 'C:/Users/ADITHA/Documents/Deep Fake Detection/train/final/fake'\n"
   ]
  },
  {
   "cell_type": "code",
   "execution_count": 6,
   "id": "81fcb6b5-add1-4bb0-a828-970ad5fa05b7",
   "metadata": {},
   "outputs": [],
   "source": [
    "# List all image files in the real and fake dataset directories\n",
    "real_image_files = [os.path.join(real_dataset_path, f) for f in os.listdir(real_dataset_path) if os.path.isfile(os.path.join(real_dataset_path, f))]\n",
    "fake_image_files = [os.path.join(fake_dataset_path, f) for f in os.listdir(fake_dataset_path) if os.path.isfile(os.path.join(fake_dataset_path, f))]\n"
   ]
  },
  {
   "cell_type": "code",
   "execution_count": 7,
   "id": "7b01a0ba-a5d3-46fc-8519-737cb9c6c40c",
   "metadata": {},
   "outputs": [
    {
     "name": "stderr",
     "output_type": "stream",
     "text": [
      "Labeling Real Images: 100%|█████████████████████████████████████████████████| 3314/3314 [00:00<00:00, 660423.03it/s]\n",
      "Labeling Fake Images: 100%|█████████████████████████████████████████████████| 2716/2716 [00:00<00:00, 673190.50it/s]\n"
     ]
    }
   ],
   "source": [
    "# Create a list to store labels\n",
    "labels = []\n",
    "\n",
    "# Add real image labels\n",
    "for file in tqdm(real_image_files, desc=\"Labeling Real Images\"):\n",
    "    labels.append([file, 'real'])\n",
    "\n",
    "# Add fake image labels\n",
    "for file in tqdm(fake_image_files, desc=\"Labeling Fake Images\"):\n",
    "    labels.append([file, 'fake'])\n"
   ]
  },
  {
   "cell_type": "code",
   "execution_count": 9,
   "id": "16471eec-fbc2-458a-bcb2-f90db107b1ce",
   "metadata": {},
   "outputs": [
    {
     "name": "stdout",
     "output_type": "stream",
     "text": [
      "Labels saved to C:/Users/ADITHA/Documents/Deep Fake Detection/train/dataset_labels.csv\n"
     ]
    }
   ],
   "source": [
    "# Create a DataFrame from the labels\n",
    "df = pd.DataFrame(labels, columns=['file_path', 'label'])\n",
    "\n",
    "# Save the DataFrame to a CSV file\n",
    "csv_file_path = 'C:/Users/ADITHA/Documents/Deep Fake Detection/train/dataset_labels.csv'\n",
    "df.to_csv(csv_file_path, index=False)\n",
    "\n",
    "print(f\"Labels saved to {csv_file_path}\")\n"
   ]
  }
 ],
 "metadata": {
  "kernelspec": {
   "display_name": "Python 3 (ipykernel)",
   "language": "python",
   "name": "python3"
  },
  "language_info": {
   "codemirror_mode": {
    "name": "ipython",
    "version": 3
   },
   "file_extension": ".py",
   "mimetype": "text/x-python",
   "name": "python",
   "nbconvert_exporter": "python",
   "pygments_lexer": "ipython3",
   "version": "3.12.4"
  }
 },
 "nbformat": 4,
 "nbformat_minor": 5
}
